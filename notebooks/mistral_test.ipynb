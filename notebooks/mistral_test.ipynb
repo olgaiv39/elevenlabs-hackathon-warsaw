{
 "cells": [
  {
   "cell_type": "code",
   "execution_count": 14,
   "id": "94b57d95-86ed-4103-abc0-d9828cbb19f2",
   "metadata": {},
   "outputs": [],
   "source": [
    "import os\n",
    "from dotenv import load_dotenv\n",
    "from mistralai import Mistral\n",
    "from mistralai.client import MistralClient\n"
   ]
  },
  {
   "cell_type": "code",
   "execution_count": 19,
   "id": "05bbf3a7-a617-4cd4-aed1-9255f3fcd077",
   "metadata": {},
   "outputs": [],
   "source": [
    "MISTRAL_API_KEY = os.getenv(\"MISTRAL_API_KEY\")\n",
    "NARRATOR_API_ID = os.getenv(\"NARRATOR_API_ID\")"
   ]
  },
  {
   "cell_type": "code",
   "execution_count": 4,
   "id": "e4dad419-04bc-4b76-8687-4d61b9cd3ea2",
   "metadata": {},
   "outputs": [
    {
     "name": "stdout",
     "output_type": "stream",
     "text": [
      "Determining the \"best\" French cheese can be quite subjective, as it depends on personal taste preferences. France is renowned for its wide variety of cheeses, with over 1,600 different types. Here are a few highly regarded French cheeses across various categories:\n",
      "\n",
      "1. **Soft Cheeses**:\n",
      "   - **Brie de Meaux**: often referred to as the \"King of Cheeses,\" it is a soft cheese with a rich, creamy interior and a bloomy rind.\n",
      "   - **Camembert de Normandie**: another famous soft cheese, known for its delicate, earthy flavor.\n",
      "\n",
      "2. **Semi-Soft Cheeses**:\n",
      "   - **Morbier**: recognizable by its layer of ash in the middle, this cheese has a mild, slightly nutty flavor.\n",
      "   - **Reblochon**: a savory cheese from the Alps, often used in the dish Tartiflette.\n",
      "\n",
      "3. **Hard Cheeses**:\n",
      "   - **Comté**: a firm, pressed cheese with a complex flavor profile that includes notes of fruit, nuts, and spices.\n",
      "   - **Beaufort**: a high-quality, firm cheese with a strong, slightly sweet flavor.\n",
      "\n",
      "4. **Blue Cheeses**:\n",
      "   - **Roquefort**: a famous blue cheese made from sheep's milk, known for its tangy, salty flavor.\n",
      "   - **Bleu d'Auvergne**: a strong, creamy blue cheese from the Auvergne region.\n",
      "\n",
      "5. **Goat Cheeses**:\n",
      "   - **Chèvre**: a general term for goat cheese, which can vary in texture and flavor, ranging from mild and fresh to strong and aged.\n",
      "\n",
      "Each of these cheeses offers a unique taste experience, and the \"best\" one truly depends on individual preferences. It's always fun to try a variety to discover your personal favorite!\n"
     ]
    }
   ],
   "source": [
    "# Load environment variables from .env file\n",
    "load_dotenv()\n",
    "\n",
    "# Retrieve the API key from environment variables\n",
    "api_key = os.getenv(\"MISTRAL_API_KEY\")\n",
    "if not api_key:\n",
    "    raise ValueError(\"MISTRAL_API_KEY not found in environment variables.\")\n",
    "\n",
    "# Initialize the Mistral client\n",
    "client = Mistral(api_key=api_key)\n",
    "\n",
    "# Define the model and messages\n",
    "model = \"mistral-large-latest\"\n",
    "messages = [\n",
    "    {\"role\": \"user\", \"content\": \"What is the best French cheese?\"}\n",
    "]\n",
    "\n",
    "# Make a completion request\n",
    "response = client.chat.complete(model=model, messages=messages)\n",
    "\n",
    "# Print the assistant's reply\n",
    "print(response.choices[0].message.content)"
   ]
  },
  {
   "cell_type": "code",
   "execution_count": 20,
   "id": "053afa09-8e07-4b3d-a875-35e2c41facbf",
   "metadata": {},
   "outputs": [
    {
     "name": "stdout",
     "output_type": "stream",
     "text": [
      "**Welcome, brave adventurer, to your interactive story!**\n",
      "\n",
      "Today, you will be the **Detective** in a small, eerie town filled with secrets and mystery. Your role is to unravel the truth behind a series of strange disappearances that have plagued the town for weeks.\n",
      "\n",
      "**Let's set the stage for our first chapter:**\n",
      "\n",
      "It's a cold, rainy night as you drive into the town of Raven's Hollow. The wind howls through the empty streets, and the faint glow of streetlights casts long, dancing shadows. You've been summoned here by an anonymous letter, hinting at a sinister force behind the recent vanishings.\n",
      "\n",
      "As you park your car in front of the old, decrepit inn, the only place to stay in town, you notice that the streets are deserted. The clock on the town hall strikes midnight, and a faint, eerie melody floats through the air.\n",
      "\n",
      "You check into the inn, the floorboards creaking under your feet. The innkeeper, an old man with a hunched back and a nervous twitch, hands you a rusty key. \"Room seven,\" he mutters, avoiding your gaze. \"Up the stairs, end of the hall. Don't go out after dark. They don't like strangers here.\"\n",
      "\n",
      "**What's your decision?**\n",
      "\n",
      "1. Ask the innkeeper about the disappearances.\n",
      "2. Head straight to your room to investigate the letter further.\n",
      "3. Ignore the innkeeper's warning and take a walk around the town.\n"
     ]
    }
   ],
   "source": [
    "api_key = os.environ[\"MISTRAL_API_KEY\"]\n",
    "\n",
    "client = Mistral(api_key=api_key)\n",
    "\n",
    "chat_response = client.agents.complete(\n",
    "    agent_id=NARRATOR_API_ID,\n",
    "    messages=[\n",
    "        {\n",
    "            \"role\": \"user\",\n",
    "            \"content\": \"Start the story.\",\n",
    "        },\n",
    "    ],\n",
    ")\n",
    "print(chat_response.choices[0].message.content)"
   ]
  },
  {
   "cell_type": "code",
   "execution_count": null,
   "id": "45f9aa1d-27f4-451e-804c-e7b258692832",
   "metadata": {},
   "outputs": [],
   "source": []
  }
 ],
 "metadata": {
  "kernelspec": {
   "display_name": "Python 3 (ipykernel)",
   "language": "python",
   "name": "python3"
  },
  "language_info": {
   "codemirror_mode": {
    "name": "ipython",
    "version": 3
   },
   "file_extension": ".py",
   "mimetype": "text/x-python",
   "name": "python",
   "nbconvert_exporter": "python",
   "pygments_lexer": "ipython3",
   "version": "3.11.5"
  }
 },
 "nbformat": 4,
 "nbformat_minor": 5
}
