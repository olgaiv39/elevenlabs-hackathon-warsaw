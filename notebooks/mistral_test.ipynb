{
 "cells": [
  {
   "cell_type": "code",
   "execution_count": 4,
   "id": "94b57d95-86ed-4103-abc0-d9828cbb19f2",
   "metadata": {},
   "outputs": [],
   "source": [
    "import os\n",
    "from dotenv import load_dotenv\n",
    "from mistralai import Mistral\n",
    "from mistralai.client import MistralClient\n"
   ]
  },
  {
   "cell_type": "code",
   "execution_count": 5,
   "id": "05bbf3a7-a617-4cd4-aed1-9255f3fcd077",
   "metadata": {},
   "outputs": [],
   "source": [
    "load_dotenv()\n",
    "\n",
    "MISTRAL_API_KEY = os.getenv(\"MISTRAL_API_KEY\")\n",
    "NARRATOR_API_ID = os.getenv(\"NARRATOR_API_ID\")"
   ]
  },
  {
   "cell_type": "code",
   "execution_count": 4,
   "id": "e4dad419-04bc-4b76-8687-4d61b9cd3ea2",
   "metadata": {},
   "outputs": [
    {
     "name": "stdout",
     "output_type": "stream",
     "text": [
      "Determining the \"best\" French cheese can be quite subjective, as it depends on personal taste preferences. France is renowned for its wide variety of cheeses, with over 1,600 different types. Here are a few highly regarded French cheeses across various categories:\n",
      "\n",
      "1. **Soft Cheeses**:\n",
      "   - **Brie de Meaux**: often referred to as the \"King of Cheeses,\" it is a soft cheese with a rich, creamy interior and a bloomy rind.\n",
      "   - **Camembert de Normandie**: another famous soft cheese, known for its delicate, earthy flavor.\n",
      "\n",
      "2. **Semi-Soft Cheeses**:\n",
      "   - **Morbier**: recognizable by its layer of ash in the middle, this cheese has a mild, slightly nutty flavor.\n",
      "   - **Reblochon**: a savory cheese from the Alps, often used in the dish Tartiflette.\n",
      "\n",
      "3. **Hard Cheeses**:\n",
      "   - **Comté**: a firm, pressed cheese with a complex flavor profile that includes notes of fruit, nuts, and spices.\n",
      "   - **Beaufort**: a high-quality, firm cheese with a strong, slightly sweet flavor.\n",
      "\n",
      "4. **Blue Cheeses**:\n",
      "   - **Roquefort**: a famous blue cheese made from sheep's milk, known for its tangy, salty flavor.\n",
      "   - **Bleu d'Auvergne**: a strong, creamy blue cheese from the Auvergne region.\n",
      "\n",
      "5. **Goat Cheeses**:\n",
      "   - **Chèvre**: a general term for goat cheese, which can vary in texture and flavor, ranging from mild and fresh to strong and aged.\n",
      "\n",
      "Each of these cheeses offers a unique taste experience, and the \"best\" one truly depends on individual preferences. It's always fun to try a variety to discover your personal favorite!\n"
     ]
    }
   ],
   "source": [
    "api_key = os.getenv(\"MISTRAL_API_KEY\")\n",
    "if not api_key:\n",
    "    raise ValueError(\"MISTRAL_API_KEY not found in environment variables.\")\n",
    "\n",
    "client = Mistral(api_key=api_key)\n",
    "\n",
    "model = \"mistral-large-latest\"\n",
    "messages = [\n",
    "    {\"role\": \"user\", \"content\": \"What is the best French cheese?\"}\n",
    "]\n",
    "\n",
    "# Make a completion request\n",
    "response = client.chat.complete(model=model, messages=messages)\n",
    "\n",
    "# Print the assistant's reply\n",
    "print(response.choices[0].message.content)"
   ]
  },
  {
   "cell_type": "code",
   "execution_count": 20,
   "id": "053afa09-8e07-4b3d-a875-35e2c41facbf",
   "metadata": {},
   "outputs": [
    {
     "name": "stdout",
     "output_type": "stream",
     "text": [
      "**Welcome, brave adventurer, to your interactive story!**\n",
      "\n",
      "Today, you will be the **Detective** in a small, eerie town filled with secrets and mystery. Your role is to unravel the truth behind a series of strange disappearances that have plagued the town for weeks.\n",
      "\n",
      "**Let's set the stage for our first chapter:**\n",
      "\n",
      "It's a cold, rainy night as you drive into the town of Raven's Hollow. The wind howls through the empty streets, and the faint glow of streetlights casts long, dancing shadows. You've been summoned here by an anonymous letter, hinting at a sinister force behind the recent vanishings.\n",
      "\n",
      "As you park your car in front of the old, decrepit inn, the only place to stay in town, you notice that the streets are deserted. The clock on the town hall strikes midnight, and a faint, eerie melody floats through the air.\n",
      "\n",
      "You check into the inn, the floorboards creaking under your feet. The innkeeper, an old man with a hunched back and a nervous twitch, hands you a rusty key. \"Room seven,\" he mutters, avoiding your gaze. \"Up the stairs, end of the hall. Don't go out after dark. They don't like strangers here.\"\n",
      "\n",
      "**What's your decision?**\n",
      "\n",
      "1. Ask the innkeeper about the disappearances.\n",
      "2. Head straight to your room to investigate the letter further.\n",
      "3. Ignore the innkeeper's warning and take a walk around the town.\n"
     ]
    }
   ],
   "source": [
    "api_key = os.environ[\"MISTRAL_API_KEY\"]\n",
    "\n",
    "client = Mistral(api_key=api_key)\n",
    "\n",
    "chat_response = client.agents.complete(\n",
    "    agent_id=NARRATOR_API_ID,\n",
    "    messages=[\n",
    "        {\n",
    "            \"role\": \"user\",\n",
    "            \"content\": \"Start the story.\",\n",
    "        },\n",
    "    ],\n",
    ")\n",
    "print(chat_response.choices[0].message.content)"
   ]
  },
  {
   "cell_type": "code",
   "execution_count": 7,
   "id": "b197e69e-a030-48d6-8a8f-3937b358d56c",
   "metadata": {},
   "outputs": [],
   "source": [
    "load_dotenv()\n",
    "\n",
    "MISTRAL_API_KEY = os.getenv(\"MISTRAL_API_KEY\")\n",
    "NARRATOR_API_ID = os.getenv(\"NARRATOR_API_ID\")"
   ]
  },
  {
   "cell_type": "code",
   "execution_count": 8,
   "id": "45f9aa1d-27f4-451e-804c-e7b258692832",
   "metadata": {},
   "outputs": [
    {
     "name": "stdout",
     "output_type": "stream",
     "text": [
      "**Welcome to \"The Mystery of the Abandoned Mansion\"**\n",
      "\n",
      "In the small, quiet town of Meadowgrove, there has always been an air of mystery surrounding the old, abandoned mansion on the hill. The mansion, once grand and majestic, now stands as a crumbling remnant of a bygone era. Locals whisper tales of strange happenings and eerie sightings, but no one has dared to set foot inside for decades.\n",
      "\n",
      "You are a renowned detective, known for your keen intuition and unyielding determination. You've solved cases that have baffled the best minds in the country, and your reputation precedes you. One day, you receive an anonymous letter inviting you to unravel the secrets of the abandoned mansion. Intrigued, you decide to take on the challenge.\n",
      "\n",
      "As you approach the mansion, the sense of foreboding is palpable. The once-grand entrance is now overgrown with ivy, and the windows stare back at you like empty eye sockets. The heavy wooden door creaks open ominously as you push it, revealing a dimly lit hallway shrouded in shadows.\n",
      "\n",
      "**What's your decision?**\n",
      "\n",
      "1. Step inside and explore the mansion.\n",
      "2. Call for backup before entering.\n",
      "3. Look for any clues or footprints outside before going in.\n",
      "4. Decide this is too risky and leave.\n"
     ]
    },
    {
     "name": "stdin",
     "output_type": "stream",
     "text": [
      "Your response:  I will check windows to see if anyone is inside\n"
     ]
    },
    {
     "name": "stdout",
     "output_type": "stream",
     "text": [
      "You quietly move towards the windows, your heart pounding in your chest. The glass is dirty and covered in grime, but you manage to find a spot clear enough to peek through. As you cup your hands around your eyes to block out the sunlight, you scan the dimly lit interior.\n",
      "\n",
      "The room inside is a grand parlor, filled with faded opulence. A thick layer of dust coats the ornate furniture, and cobwebs hang from the chandelier like ghostly decorations. As your eyes adjust to the darkness, you notice a faint, flickering light coming from deeper within the mansion. It seems as though someone, or something, is indeed inside.\n",
      "\n",
      "**What is your decision?**\n",
      "\n",
      "1. Break a small part of the window to get a better view.\n",
      "2. Try to find another way inside.\n",
      "3. Return to the front door and enter the mansion.\n",
      "4. Take position in bushes and see who is in the mansion.\n"
     ]
    },
    {
     "name": "stdin",
     "output_type": "stream",
     "text": [
      "Your response:  I want to see if backdoor is opened. If so I will enter.\n"
     ]
    },
    {
     "name": "stdout",
     "output_type": "stream",
     "text": [
      "You decide to investigate the back of the mansion, hoping to find an alternative entry point. As you make your way around the crumbling building, you notice that the rear of the mansion is even more overgrown than the front. The gardens, once meticulously maintained, are now a wild tangle of weeds and thorns.\n",
      "\n",
      "As you approach the back door, you see that it is slightly ajar, as if beckoning you to enter. The door creaks softly in the breeze, adding to the eerie atmosphere. You hesitate for a moment, weighing the risks, but your curiosity and determination ultimately win out.\n",
      "\n",
      "You carefully push the door open wider and step inside, your senses on high alert. The air is thick with dust and the scent of old wood and decay. The flickering light you saw earlier is now more pronounced, casting eerie shadows on the walls.\n",
      "\n",
      "As you make your way deeper into the mansion, you hear a faint, muffled sound coming from one of the rooms upstairs. It sounds like someone is whispering, but you can't make out the words.\n",
      "\n",
      "**What's your decision?**\n",
      "\n",
      "1. Follow the sound upstairs.\n",
      "2. Continue exploring the ground floor.\n",
      "3. Call out to see if anyone responds.\n",
      "4. Draw your weapon and proceed with caution.\n"
     ]
    },
    {
     "name": "stdin",
     "output_type": "stream",
     "text": [
      "Your response:  exit\n"
     ]
    }
   ],
   "source": [
    "client = Mistral(api_key=MISTRAL_API_KEY)\n",
    "\n",
    "messages = [\n",
    "    {\n",
    "        \"role\": \"user\",\n",
    "        \"content\": \"Start the story.\",\n",
    "    }\n",
    "]\n",
    "\n",
    "# Start an interactive loop\n",
    "while True:\n",
    "    # Call the API with the current conversation history\n",
    "    chat_response = client.agents.complete(\n",
    "        agent_id=NARRATOR_API_ID,\n",
    "        messages=messages,\n",
    "    )\n",
    "    \n",
    "    # Extract and print the agent's response\n",
    "    assistant_message = chat_response.choices[0].message\n",
    "    print(assistant_message.content)\n",
    "    \n",
    "    # Add the agent's response to the conversation history\n",
    "    messages.append({\"role\": \"assistant\", \"content\": assistant_message.content})\n",
    "    \n",
    "    # Get the next user input\n",
    "    user_input = input(\"Your response: \")\n",
    "    \n",
    "    # Check if the user wants to exit\n",
    "    if user_input.lower() == \"exit\":\n",
    "        break\n",
    "    \n",
    "    # Add the user's input to the conversation history\n",
    "    messages.append({\"role\": \"user\", \"content\": user_input})"
   ]
  },
  {
   "cell_type": "code",
   "execution_count": null,
   "id": "89fd6268-d52f-4eb2-ae3f-2889beffa589",
   "metadata": {},
   "outputs": [],
   "source": []
  }
 ],
 "metadata": {
  "kernelspec": {
   "display_name": "Python 3 (ipykernel)",
   "language": "python",
   "name": "python3"
  },
  "language_info": {
   "codemirror_mode": {
    "name": "ipython",
    "version": 3
   },
   "file_extension": ".py",
   "mimetype": "text/x-python",
   "name": "python",
   "nbconvert_exporter": "python",
   "pygments_lexer": "ipython3",
   "version": "3.11.5"
  }
 },
 "nbformat": 4,
 "nbformat_minor": 5
}
