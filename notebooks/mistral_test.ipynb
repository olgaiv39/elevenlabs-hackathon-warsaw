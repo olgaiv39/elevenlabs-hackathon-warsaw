{
 "cells": [
  {
   "cell_type": "code",
   "execution_count": 1,
   "id": "94b57d95-86ed-4103-abc0-d9828cbb19f2",
   "metadata": {},
   "outputs": [],
   "source": [
    "import os\n",
    "from dotenv import load_dotenv\n",
    "from mistralai import Mistral\n",
    "from mistralai.client import MistralClient\n"
   ]
  },
  {
   "cell_type": "code",
   "execution_count": 2,
   "id": "05bbf3a7-a617-4cd4-aed1-9255f3fcd077",
   "metadata": {},
   "outputs": [],
   "source": [
    "load_dotenv()\n",
    "\n",
    "MISTRAL_API_KEY = os.getenv(\"MISTRAL_API_KEY\")\n",
    "NARRATOR_API_ID = os.getenv(\"NARRATOR_API_ID\")"
   ]
  },
  {
   "cell_type": "code",
   "execution_count": 4,
   "id": "e4dad419-04bc-4b76-8687-4d61b9cd3ea2",
   "metadata": {},
   "outputs": [
    {
     "name": "stdout",
     "output_type": "stream",
     "text": [
      "Determining the \"best\" French cheese can be quite subjective, as it depends on personal taste preferences. France is renowned for its wide variety of cheeses, with over 1,600 different types. Here are a few highly regarded French cheeses across various categories:\n",
      "\n",
      "1. **Soft Cheeses**:\n",
      "   - **Brie de Meaux**: often referred to as the \"King of Cheeses,\" it is a soft cheese with a rich, creamy interior and a bloomy rind.\n",
      "   - **Camembert de Normandie**: another famous soft cheese, known for its delicate, earthy flavor.\n",
      "\n",
      "2. **Semi-Soft Cheeses**:\n",
      "   - **Morbier**: recognizable by its layer of ash in the middle, this cheese has a mild, slightly nutty flavor.\n",
      "   - **Reblochon**: a savory cheese from the Alps, often used in the dish Tartiflette.\n",
      "\n",
      "3. **Hard Cheeses**:\n",
      "   - **Comté**: a firm, pressed cheese with a complex flavor profile that includes notes of fruit, nuts, and spices.\n",
      "   - **Beaufort**: a high-quality, firm cheese with a strong, slightly sweet flavor.\n",
      "\n",
      "4. **Blue Cheeses**:\n",
      "   - **Roquefort**: a famous blue cheese made from sheep's milk, known for its tangy, salty flavor.\n",
      "   - **Bleu d'Auvergne**: a strong, creamy blue cheese from the Auvergne region.\n",
      "\n",
      "5. **Goat Cheeses**:\n",
      "   - **Chèvre**: a general term for goat cheese, which can vary in texture and flavor, ranging from mild and fresh to strong and aged.\n",
      "\n",
      "Each of these cheeses offers a unique taste experience, and the \"best\" one truly depends on individual preferences. It's always fun to try a variety to discover your personal favorite!\n"
     ]
    }
   ],
   "source": [
    "api_key = os.getenv(\"MISTRAL_API_KEY\")\n",
    "if not api_key:\n",
    "    raise ValueError(\"MISTRAL_API_KEY not found in environment variables.\")\n",
    "\n",
    "client = Mistral(api_key=api_key)\n",
    "\n",
    "model = \"mistral-large-latest\"\n",
    "messages = [\n",
    "    {\"role\": \"user\", \"content\": \"What is the best French cheese?\"}\n",
    "]\n",
    "\n",
    "# Make a completion request\n",
    "response = client.chat.complete(model=model, messages=messages)\n",
    "\n",
    "# Print the assistant's reply\n",
    "print(response.choices[0].message.content)"
   ]
  },
  {
   "cell_type": "code",
   "execution_count": 20,
   "id": "053afa09-8e07-4b3d-a875-35e2c41facbf",
   "metadata": {},
   "outputs": [
    {
     "name": "stdout",
     "output_type": "stream",
     "text": [
      "**Welcome, brave adventurer, to your interactive story!**\n",
      "\n",
      "Today, you will be the **Detective** in a small, eerie town filled with secrets and mystery. Your role is to unravel the truth behind a series of strange disappearances that have plagued the town for weeks.\n",
      "\n",
      "**Let's set the stage for our first chapter:**\n",
      "\n",
      "It's a cold, rainy night as you drive into the town of Raven's Hollow. The wind howls through the empty streets, and the faint glow of streetlights casts long, dancing shadows. You've been summoned here by an anonymous letter, hinting at a sinister force behind the recent vanishings.\n",
      "\n",
      "As you park your car in front of the old, decrepit inn, the only place to stay in town, you notice that the streets are deserted. The clock on the town hall strikes midnight, and a faint, eerie melody floats through the air.\n",
      "\n",
      "You check into the inn, the floorboards creaking under your feet. The innkeeper, an old man with a hunched back and a nervous twitch, hands you a rusty key. \"Room seven,\" he mutters, avoiding your gaze. \"Up the stairs, end of the hall. Don't go out after dark. They don't like strangers here.\"\n",
      "\n",
      "**What's your decision?**\n",
      "\n",
      "1. Ask the innkeeper about the disappearances.\n",
      "2. Head straight to your room to investigate the letter further.\n",
      "3. Ignore the innkeeper's warning and take a walk around the town.\n"
     ]
    }
   ],
   "source": [
    "api_key = os.environ[\"MISTRAL_API_KEY\"]\n",
    "\n",
    "client = Mistral(api_key=api_key)\n",
    "\n",
    "chat_response = client.agents.complete(\n",
    "    agent_id=NARRATOR_API_ID,\n",
    "    messages=[\n",
    "        {\n",
    "            \"role\": \"user\",\n",
    "            \"content\": \"Start the story.\",\n",
    "        },\n",
    "    ],\n",
    ")\n",
    "print(chat_response.choices[0].message.content)"
   ]
  },
  {
   "cell_type": "code",
   "execution_count": 7,
   "id": "b197e69e-a030-48d6-8a8f-3937b358d56c",
   "metadata": {},
   "outputs": [],
   "source": [
    "load_dotenv()\n",
    "\n",
    "MISTRAL_API_KEY = os.getenv(\"MISTRAL_API_KEY\")\n",
    "NARRATOR_API_ID = os.getenv(\"NARRATOR_API_ID\")"
   ]
  },
  {
   "cell_type": "code",
   "execution_count": 3,
   "id": "45f9aa1d-27f4-451e-804c-e7b258692832",
   "metadata": {},
   "outputs": [
    {
     "name": "stdout",
     "output_type": "stream",
     "text": [
      "In the quaint, peaceful village of Meadowgrove, nestled between undulating hills and a whispers-thin river, you've lived your entire life. The villagers know you as the reliable, resourceful blacksmith's apprentice, always ready to lend a hand. However, your world is about to turn upside down.\n",
      "\n",
      "A mysterious plague has begun to spread, turning the gentlest farmers into ravening creatures under the moon's glow. The village elder, Old Man Thom, has called upon everyone to find a cure before the next full moon. You've always been curious about the old legends and the mysterious forest bordering Meadowgrove—a place others fear but you find strangely alluring.\n",
      "\n",
      "As you stand at the edge of the forest, the weight of your task settles on your shoulders. The trees tower above, their leaves whispering ancient secrets. The scent of damp earth and pine fills your nostrils, and you can't help but feel a mix of exhilaration and trepidation. You've heard tales of the forest guardian, a spirit said to help the pure of heart but punish the wicked. You hope that your intentions, pure as they are, will guide you safely through the trials ahead.\n",
      "\n",
      "```\n",
      "[CHAPTER_1]\n",
      "[DECISIONS_0]\n",
      "```\n",
      "\n",
      "What would you like to do first?\n",
      "\n",
      "1. Venture straight into the forest, following the faint path that disappears into the shadows.\n",
      "2. Return to the village to gather more information and supplies from Old Man Thom.\n",
      "3. Visit the wise woman who lives on the outskirts of Meadowgrove, seeking her advice and any potions she might provide.\n"
     ]
    },
    {
     "name": "stdin",
     "output_type": "stream",
     "text": [
      "Your response:  I want to figure out whether there are any sounds coming from the forest\n"
     ]
    },
    {
     "name": "stdout",
     "output_type": "stream",
     "text": [
      "You stand at the forest's edge, eyes closed, taking a deep breath. The wind rustles the leaves above, and the usual chorus of birdsong is strangely absent. Instead, you hear the distant hoot of an owl and the faint scratching of something moving through the underbrush. The forest feels alive, yet eerily quiet, as if waiting for your next move.\n",
      "\n",
      "As you strain your ears, you pick up a soft, rhythmic tapping sound deeper within the woods. It's too precise to be a natural noise, almost like someone—or something—is trying to get your attention.\n",
      "\n",
      "[DECISIONS_1]\n",
      "\n",
      "What would you like to do next?\n",
      "\n",
      "1. Follow the tapping sound deeper into the forest.\n",
      "2. Return to the village to report this strange occurrence to Old Man Thom.\n",
      "3. Call out to see if whoever is making the sound responds to your voice.\n"
     ]
    },
    {
     "name": "stdin",
     "output_type": "stream",
     "text": [
      "Your response:  exit\n"
     ]
    }
   ],
   "source": [
    "client = Mistral(api_key=MISTRAL_API_KEY)\n",
    "\n",
    "messages = [\n",
    "    {\n",
    "        \"role\": \"user\",\n",
    "        \"content\": \"Start the story.\",\n",
    "    }\n",
    "]\n",
    "\n",
    "# Start an interactive loop\n",
    "while True:\n",
    "    # Call the API with the current conversation history\n",
    "    chat_response = client.agents.complete(\n",
    "        agent_id=NARRATOR_API_ID,\n",
    "        messages=messages,\n",
    "    )\n",
    "    \n",
    "    # Extract and print the agent's response\n",
    "    assistant_message = chat_response.choices[0].message\n",
    "    print(assistant_message.content)\n",
    "    \n",
    "    # Add the agent's response to the conversation history\n",
    "    messages.append({\"role\": \"assistant\", \"content\": assistant_message.content})\n",
    "    \n",
    "    # Get the next user input\n",
    "    user_input = input(\"Your response: \")\n",
    "    \n",
    "    # Check if the user wants to exit\n",
    "    if user_input.lower() == \"exit\":\n",
    "        break\n",
    "    \n",
    "    # Add the user's input to the conversation history\n",
    "    messages.append({\"role\": \"user\", \"content\": user_input})"
   ]
  },
  {
   "cell_type": "code",
   "execution_count": null,
   "id": "89fd6268-d52f-4eb2-ae3f-2889beffa589",
   "metadata": {},
   "outputs": [],
   "source": []
  }
 ],
 "metadata": {
  "kernelspec": {
   "display_name": "Python 3 (ipykernel)",
   "language": "python",
   "name": "python3"
  },
  "language_info": {
   "codemirror_mode": {
    "name": "ipython",
    "version": 3
   },
   "file_extension": ".py",
   "mimetype": "text/x-python",
   "name": "python",
   "nbconvert_exporter": "python",
   "pygments_lexer": "ipython3",
   "version": "3.11.5"
  }
 },
 "nbformat": 4,
 "nbformat_minor": 5
}
