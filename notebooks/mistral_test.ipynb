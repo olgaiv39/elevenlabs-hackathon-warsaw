{
 "cells": [
  {
   "cell_type": "code",
   "execution_count": 7,
   "id": "94b57d95-86ed-4103-abc0-d9828cbb19f2",
   "metadata": {},
   "outputs": [],
   "source": [
    "import os\n",
    "import time\n",
    "from dotenv import load_dotenv\n",
    "from mistralai import Mistral\n",
    "from mistralai.client import MistralClient\n"
   ]
  },
  {
   "cell_type": "code",
   "execution_count": 2,
   "id": "05bbf3a7-a617-4cd4-aed1-9255f3fcd077",
   "metadata": {},
   "outputs": [],
   "source": [
    "load_dotenv()\n",
    "\n",
    "MISTRAL_API_KEY = os.getenv(\"MISTRAL_API_KEY\")\n",
    "NARRATOR_API_ID = os.getenv(\"NARRATOR_API_ID\")"
   ]
  },
  {
   "cell_type": "code",
   "execution_count": 4,
   "id": "e4dad419-04bc-4b76-8687-4d61b9cd3ea2",
   "metadata": {},
   "outputs": [
    {
     "name": "stdout",
     "output_type": "stream",
     "text": [
      "Determining the \"best\" French cheese can be quite subjective, as it depends on personal taste preferences. France is renowned for its wide variety of cheeses, with over 1,600 different types. Here are a few highly regarded French cheeses across various categories:\n",
      "\n",
      "1. **Soft Cheeses**:\n",
      "   - **Brie de Meaux**: often referred to as the \"King of Cheeses,\" it is a soft cheese with a rich, creamy interior and a bloomy rind.\n",
      "   - **Camembert de Normandie**: another famous soft cheese, known for its delicate, earthy flavor.\n",
      "\n",
      "2. **Semi-Soft Cheeses**:\n",
      "   - **Morbier**: recognizable by its layer of ash in the middle, this cheese has a mild, slightly nutty flavor.\n",
      "   - **Reblochon**: a savory cheese from the Alps, often used in the dish Tartiflette.\n",
      "\n",
      "3. **Hard Cheeses**:\n",
      "   - **Comté**: a firm, pressed cheese with a complex flavor profile that includes notes of fruit, nuts, and spices.\n",
      "   - **Beaufort**: a high-quality, firm cheese with a strong, slightly sweet flavor.\n",
      "\n",
      "4. **Blue Cheeses**:\n",
      "   - **Roquefort**: a famous blue cheese made from sheep's milk, known for its tangy, salty flavor.\n",
      "   - **Bleu d'Auvergne**: a strong, creamy blue cheese from the Auvergne region.\n",
      "\n",
      "5. **Goat Cheeses**:\n",
      "   - **Chèvre**: a general term for goat cheese, which can vary in texture and flavor, ranging from mild and fresh to strong and aged.\n",
      "\n",
      "Each of these cheeses offers a unique taste experience, and the \"best\" one truly depends on individual preferences. It's always fun to try a variety to discover your personal favorite!\n"
     ]
    }
   ],
   "source": [
    "api_key = os.getenv(\"MISTRAL_API_KEY\")\n",
    "if not api_key:\n",
    "    raise ValueError(\"MISTRAL_API_KEY not found in environment variables.\")\n",
    "\n",
    "client = Mistral(api_key=api_key)\n",
    "\n",
    "model = \"mistral-large-latest\"\n",
    "messages = [\n",
    "    {\"role\": \"user\", \"content\": \"What is the best French cheese?\"}\n",
    "]\n",
    "\n",
    "# Make a completion request\n",
    "response = client.chat.complete(model=model, messages=messages)\n",
    "\n",
    "# Print the assistant's reply\n",
    "print(response.choices[0].message.content)"
   ]
  },
  {
   "cell_type": "code",
   "execution_count": 20,
   "id": "053afa09-8e07-4b3d-a875-35e2c41facbf",
   "metadata": {},
   "outputs": [
    {
     "name": "stdout",
     "output_type": "stream",
     "text": [
      "**Welcome, brave adventurer, to your interactive story!**\n",
      "\n",
      "Today, you will be the **Detective** in a small, eerie town filled with secrets and mystery. Your role is to unravel the truth behind a series of strange disappearances that have plagued the town for weeks.\n",
      "\n",
      "**Let's set the stage for our first chapter:**\n",
      "\n",
      "It's a cold, rainy night as you drive into the town of Raven's Hollow. The wind howls through the empty streets, and the faint glow of streetlights casts long, dancing shadows. You've been summoned here by an anonymous letter, hinting at a sinister force behind the recent vanishings.\n",
      "\n",
      "As you park your car in front of the old, decrepit inn, the only place to stay in town, you notice that the streets are deserted. The clock on the town hall strikes midnight, and a faint, eerie melody floats through the air.\n",
      "\n",
      "You check into the inn, the floorboards creaking under your feet. The innkeeper, an old man with a hunched back and a nervous twitch, hands you a rusty key. \"Room seven,\" he mutters, avoiding your gaze. \"Up the stairs, end of the hall. Don't go out after dark. They don't like strangers here.\"\n",
      "\n",
      "**What's your decision?**\n",
      "\n",
      "1. Ask the innkeeper about the disappearances.\n",
      "2. Head straight to your room to investigate the letter further.\n",
      "3. Ignore the innkeeper's warning and take a walk around the town.\n"
     ]
    }
   ],
   "source": [
    "api_key = os.environ[\"MISTRAL_API_KEY\"]\n",
    "\n",
    "client = Mistral(api_key=api_key)\n",
    "\n",
    "chat_response = client.agents.complete(\n",
    "    agent_id=NARRATOR_API_ID,\n",
    "    messages=[\n",
    "        {\n",
    "            \"role\": \"user\",\n",
    "            \"content\": \"Start the story.\",\n",
    "        },\n",
    "    ],\n",
    ")\n",
    "print(chat_response.choices[0].message.content)"
   ]
  },
  {
   "cell_type": "code",
   "execution_count": 2,
   "id": "b197e69e-a030-48d6-8a8f-3937b358d56c",
   "metadata": {},
   "outputs": [],
   "source": [
    "load_dotenv()\n",
    "\n",
    "MISTRAL_API_KEY = os.getenv(\"MISTRAL_API_KEY\")\n",
    "NARRATOR_API_ID = os.getenv(\"NARRATOR_API_ID\")"
   ]
  },
  {
   "cell_type": "code",
   "execution_count": 4,
   "id": "45f9aa1d-27f4-451e-804c-e7b258692832",
   "metadata": {},
   "outputs": [
    {
     "name": "stdout",
     "output_type": "stream",
     "text": [
      "In the quaint, peaceful village of Meadowgrove, nestled between undulating hills and a whispers-thin river, you've lived your entire life much like anyone else. However, today starts differently; an unusual chill hangs in the air, and the usual morning symphony of birdsong is absent. Rumors have been circulating about strange occurrences at the outskirts of the village—mysterious crop circles, inexplicable noises echoing through the mist, and an unsettling sense of foreboding that has even the bravest farmers nervous.\n",
      "\n",
      "You've always been curious and a bit braver than most. As you step out of your small cottage, you notice the eerie silence. The village elder had mentioned an ancient artifact hidden deep within the nearby Whisperwood Forest, said to hold immense power capable of protecting or destroying the village. With a deep breath, you decide it’s time to unravel the mystery and set off towards the forest, determined to find the artifact and safeguard Meadowgrove.\n",
      "\n",
      "[CHAPTER_1]\n",
      "[DECISIONS_0]\n"
     ]
    },
    {
     "name": "stdin",
     "output_type": "stream",
     "text": [
      "Your response:  exit\n"
     ]
    }
   ],
   "source": [
    "client = Mistral(api_key=MISTRAL_API_KEY)\n",
    "\n",
    "messages = [\n",
    "    {\n",
    "        \"role\": \"user\",\n",
    "        \"content\": \"Start the story.\",\n",
    "    }\n",
    "]\n",
    "\n",
    "# Start an interactive loop\n",
    "while True:\n",
    "    # Call the API with the current conversation history\n",
    "    chat_response = client.agents.complete(\n",
    "        agent_id=NARRATOR_API_ID,\n",
    "        messages=messages,\n",
    "    )\n",
    "    \n",
    "    # Extract and print the agent's response\n",
    "    assistant_message = chat_response.choices[0].message\n",
    "    print(assistant_message.content)\n",
    "    \n",
    "    # Add the agent's response to the conversation history\n",
    "    messages.append({\"role\": \"assistant\", \"content\": assistant_message.content})\n",
    "    \n",
    "    # Get the next user input\n",
    "    user_input = input(\"Your response: \")\n",
    "    \n",
    "    # Check if the user wants to exit\n",
    "    if user_input.lower() == \"exit\":\n",
    "        break\n",
    "    \n",
    "    # Add the user's input to the conversation history\n",
    "    messages.append({\"role\": \"user\", \"content\": user_input})"
   ]
  },
  {
   "cell_type": "code",
   "execution_count": 12,
   "id": "89fd6268-d52f-4eb2-ae3f-2889beffa589",
   "metadata": {},
   "outputs": [
    {
     "name": "stdout",
     "output_type": "stream",
     "text": [
      "In the quiet town of Meadowgrove, nestled between undulating hills and a whispers-thin river, you've lived your entire life in peaceful obscurity. Your role as the local librarian has always been to safeguard the town's stories, both real and imagined, within the dusty pages of aged books. However, the tranquility of Meadowgrove is shattered when you discover an anonymous letter tucked into an old encyclopedia, detailing a secret that could tear the town apart.\n",
      "\n",
      "The letter speaks of a hidden treasure buried deep within the nearby Whispering Woods—a treasure that, if found, could rewrite the history of Meadowgrove and expose the dark secrets of its founding families. As you hold the brittle paper, you feel a shiver run down your spine. The ink is smudged, the handwriting hurried, as if the writer was afraid of being caught. The last line of the letter echoes in your mind: \"Beware the guardian of the woods, for it will protect the treasure at any cost.\"\n",
      "\n",
      "You look out the library window, towards the dense tree line of the Whispering Woods. The sun is beginning to set, casting long, dancing shadows that seem to beckon you towards the unknown. You take a deep breath, the weight of the letter heavy in your pocket.\n",
      "\n",
      "```\n",
      "[CHAPTER_1]\n",
      "[DECISIONS_0]\n",
      "```\n",
      "\n",
      "What is your first decision?\n",
      "\n",
      "1. Do you choose to venture into the Whispering Woods immediately, armed with the letter and a determination to uncover the truth?\n",
      "2. Do you decide to research more about the woods and the rumored treasure, delving into the library's archives for any hidden clues?\n",
      "3. Do you confide in a trusted friend or colleague, seeking their advice and perhaps their company on this perilous journey?\n",
      "\n",
      "\n",
      "the quiet town of Meadowgrove, nestled between undulating hills and a whispers-thin river, you've lived your entire life in peaceful obscurity. Your role as the local librarian has always been to safeguard the town's stories, both real and imagined, within the dusty pages of aged books. However, the tranquility of Meadowgrove is shattered when you discover an anonymous letter tucked into an old encyclopedia, detailing a secret that could tear the town apart. The letter speaks of a hidden treasure buried deep within the nearby Whispering Woods—a treasure that, if found, could rewrite the history of Meadowgrove and expose the dark secrets of its founding families. As you hold the brittle paper, you feel a shiver run down your spine. The ink is smudged, the handwriting hurried, as if the writer was afraid of being caught. The last line of the letter echoes in your mind: \"Beware the guardian of the woods, for it will protect the treasure at any cost.\" You look out the library window, towards the dense tree line of the Whispering Woods. The sun is beginning to set, casting long, dancing shadows that seem to beckon you towards the unknown. You take a deep breath, the weight of the letter heavy in your pocket. ``` [CHAPTER_1] [DECISIONS_0] ``` What is your first decision? 1. Do you choose to venture into the Whispering Woods immediately, armed with the letter and a determination to uncover the truth? 2. Do you decide to research more about the woods and the rumored treasure, delving into the library's archives for any hidden clues? 3. Do you confide in a trusted friend or colleague, seeking their advice and perhaps their company on this perilous journey? \n",
      "\n"
     ]
    },
    {
     "name": "stdin",
     "output_type": "stream",
     "text": [
      "Your response:  1\n"
     ]
    },
    {
     "name": "stdout",
     "output_type": "stream",
     "text": [
      "With the letter securely tucked in your pocket, you grab a flashlight and a small shovel from the library's maintenance closet. The air is cool and damp as you step outside, locking the library door behind you. The Whispering Woods loom ahead, the trees swaying gently as if whispering secrets to each other.\n",
      "\n",
      "As you approach the edge of the woods, you notice a faint path leading into the dense foliage. The sun is dipping lower, casting eerie shadows that seem to move on their own. You take a deep breath and step onto the path, the crunch of leaves under your feet echoing loudly in the silence.\n",
      "\n",
      "The woods are thick with tension, the usual chorus of birds and insects notably absent. You walk deeper, the canopy above blocking out most of the remaining light. The path forks, and you pause, considering your next move.\n",
      "\n",
      "```\n",
      "[DECISIONS_1]\n",
      "```\n",
      "\n",
      "What is your decision?\n",
      "\n",
      "1. Do you take the left path, which seems to lead deeper into the woods, towards an old, gnarled tree?\n",
      "2. Do you take the right path, where the faint sound of running water hints at a nearby stream?\n",
      "3. Do you decide to mark your current location and explore off the path, venturing into the dense underbrush?\n",
      "\n",
      "\n",
      "the letter securely tucked in your pocket, you grab a flashlight and a small shovel from the library's maintenance closet. The air is cool and damp as you step outside, locking the library door behind you. The Whispering Woods loom ahead, the trees swaying gently as if whispering secrets to each other. As you approach the edge of the woods, you notice a faint path leading into the dense foliage. The sun is dipping lower, casting eerie shadows that seem to move on their own. You take a deep breath and step onto the path, the crunch of leaves under your feet echoing loudly in the silence. The woods are thick with tension, the usual chorus of birds and insects notably absent. You walk deeper, the canopy above blocking out most of the remaining light. The path forks, and you pause, considering your next move. ``` [DECISIONS_1] ``` What is "
     ]
    },
    {
     "ename": "KeyboardInterrupt",
     "evalue": "",
     "output_type": "error",
     "traceback": [
      "\u001b[1;31m---------------------------------------------------------------------------\u001b[0m",
      "\u001b[1;31mKeyboardInterrupt\u001b[0m                         Traceback (most recent call last)",
      "Cell \u001b[1;32mIn[12], line 23\u001b[0m\n\u001b[0;32m     21\u001b[0m \u001b[38;5;28;01mfor\u001b[39;00m word \u001b[38;5;129;01min\u001b[39;00m assistant_message\u001b[38;5;241m.\u001b[39msplit():\n\u001b[0;32m     22\u001b[0m     \u001b[38;5;28mprint\u001b[39m(word, end\u001b[38;5;241m=\u001b[39m\u001b[38;5;124m\"\u001b[39m\u001b[38;5;124m \u001b[39m\u001b[38;5;124m\"\u001b[39m, flush\u001b[38;5;241m=\u001b[39m\u001b[38;5;28;01mTrue\u001b[39;00m)\n\u001b[1;32m---> 23\u001b[0m     time\u001b[38;5;241m.\u001b[39msleep(\u001b[38;5;241m0.1\u001b[39m)  \u001b[38;5;66;03m# Adjust delay as needed\u001b[39;00m\n\u001b[0;32m     25\u001b[0m \u001b[38;5;28mprint\u001b[39m(\u001b[38;5;124m\"\u001b[39m\u001b[38;5;130;01m\\n\u001b[39;00m\u001b[38;5;124m\"\u001b[39m)  \n\u001b[0;32m     27\u001b[0m \u001b[38;5;66;03m# Add the agent's response to the conversation history\u001b[39;00m\n",
      "\u001b[1;31mKeyboardInterrupt\u001b[0m: "
     ]
    }
   ],
   "source": [
    "client = Mistral(api_key=MISTRAL_API_KEY)\n",
    "\n",
    "messages = [\n",
    "    {\n",
    "        \"role\": \"user\",\n",
    "        \"content\": \"Start the story.\",\n",
    "    }\n",
    "]\n",
    "\n",
    "while True:\n",
    "    # Call the API with the current conversation history\n",
    "    chat_response = client.agents.complete(\n",
    "        agent_id=NARRATOR_API_ID,\n",
    "        messages=messages,\n",
    "    )\n",
    "    \n",
    "    assistant_message = chat_response.choices[0].message.content\n",
    "    print(assistant_message)\n",
    "    print('\\n')\n",
    "\n",
    "    for word in assistant_message.split():\n",
    "        print(word, end=\" \", flush=True)\n",
    "        time.sleep(0.1)  # Adjust delay as needed\n",
    "    \n",
    "    print(\"\\n\")  \n",
    "    \n",
    "    # Add the agent's response to the conversation history\n",
    "    messages.append({\"role\": \"assistant\", \"content\": assistant_message})\n",
    "\n",
    "    user_input = input(\"Your response: \")\n",
    "\n",
    "    # Exit condition\n",
    "    if user_input.lower() == \"exit\":\n",
    "        break\n",
    "\n",
    "    # Add user's input to the conversation history\n",
    "    messages.append({\"role\": \"user\", \"content\": user_input})"
   ]
  },
  {
   "cell_type": "code",
   "execution_count": null,
   "id": "6d5dc9b0-241d-4647-a57e-f8fabcfc6ddd",
   "metadata": {},
   "outputs": [],
   "source": []
  }
 ],
 "metadata": {
  "kernelspec": {
   "display_name": "Python 3 (ipykernel)",
   "language": "python",
   "name": "python3"
  },
  "language_info": {
   "codemirror_mode": {
    "name": "ipython",
    "version": 3
   },
   "file_extension": ".py",
   "mimetype": "text/x-python",
   "name": "python",
   "nbconvert_exporter": "python",
   "pygments_lexer": "ipython3",
   "version": "3.11.5"
  }
 },
 "nbformat": 4,
 "nbformat_minor": 5
}
